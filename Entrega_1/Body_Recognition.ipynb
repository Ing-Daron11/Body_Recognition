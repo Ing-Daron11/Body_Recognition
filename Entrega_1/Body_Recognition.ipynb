{
  "nbformat": 4,
  "nbformat_minor": 0,
  "metadata": {
    "colab": {
      "provenance": []
    },
    "kernelspec": {
      "name": "python3",
      "display_name": "Python 3"
    },
    "language_info": {
      "name": "python"
    }
  },
  "cells": [
    {
      "cell_type": "markdown",
      "source": [
        "## Pregunta de interés\n",
        "\n",
        "¿Es posible detectar en tiempo real caídas y malas posturas de trabajadores a partir del análisis de movimientos articulares, y enviar alertas automáticas para prevenir o informar a tiempo sobre accidentes o incidentes laborales?\n"
      ],
      "metadata": {
        "id": "i1DSi_5Elk8_"
      }
    },
    {
      "cell_type": "markdown",
      "source": [
        "## Metodología propuesta\n",
        "\n",
        "-----\n",
        "\n",
        "**Captura de datos**\n",
        "\n",
        "\n",
        "> Grabar videos simulando situaciones laborales normales, caídas y malas posturas.\n",
        "\n",
        "**Anotación de datos**\n",
        "> Usar LabelStudio o CVAT para etiquetar cada segmento de video como:\n",
        "Normal, Mala postura, Caída.\n",
        "\n",
        "**Seguimiento articular:**\n",
        "> Utilizar MediaPipe (por simplicidad) para detectar y seguir articulaciones clave (hombros, cadera, rodillas, cabeza).\n",
        "\n",
        "**Extracción de características**\n",
        "\n",
        ">- Inclinación del torso.\n",
        "\n",
        "> - Ángulo entre cuello y cadera.\n",
        "\n",
        "> - Velocidad de descenso de la cadera (caída).\n",
        "\n",
        "**Modelado**\n",
        "\n",
        "> Clasificador supervisado: SVM o Random Forest.\n",
        "\n",
        "> Entrenar el modelo con las características extraídas.\n",
        "\n",
        "**Alertas**\n",
        "\n",
        "> Integrar sistema de notificaciones:\n",
        "\n",
        "> Correo electrónico usando SMTP (smtplib)."
      ],
      "metadata": {
        "id": "0PFZ4P5zl4ht"
      }
    },
    {
      "cell_type": "markdown",
      "source": [
        "## Métricas para evaluar\n",
        "----\n",
        "\n",
        "- Precisión (Accuracy) de clasificación entre las clases: Normal, Mala postura, Caída.\n",
        "\n",
        "- Recall y F1-score para:\n",
        "\n",
        "- Detección de malas posturas (importante para no dejar pasar errores).\n",
        "\n",
        "- Detección de caídas (importante para no tener falsos negativos).\n",
        "\n",
        "- Tasa de falsas alarmas (especialmente en detección de caídas)."
      ],
      "metadata": {
        "id": "FDaZRNKhm0Vj"
      }
    },
    {
      "cell_type": "markdown",
      "source": [
        "## Análisis exploratorio de datos\n",
        "----\n",
        "\n",
        "- Visualizar distribuciones de inclinaciones, ángulos y velocidades en cada clase.\n",
        "\n",
        "- Analizar patrones en malas posturas: ¿qué ángulos son más comunes?\n",
        "\n",
        "- Ver qué características (features) mejor separan caídas de posturas normales."
      ],
      "metadata": {
        "id": "w5YucnWcnBs5"
      }
    },
    {
      "cell_type": "markdown",
      "source": [
        "## Estrategias de ampliación de datos\n",
        "----\n",
        "\n",
        "**Aumentar datos grabando videos con:**\n",
        "\n",
        ">Diferentes personas.\n",
        "\n",
        ">Diferentes ropas (para ver si MediaPipe sigue detectando bien).\n",
        "\n",
        ">Diferentes velocidades (caídas rápidas o lentas).\n",
        "\n",
        ">Data Augmentation:\n",
        "\n",
        ">Pequeñas rotaciones o cambios de escala en los datos.\n",
        "\n",
        ">Agregar ruido a las coordenadas para simular errores leves."
      ],
      "metadata": {
        "id": "AGfMk4msnLk-"
      }
    },
    {
      "cell_type": "markdown",
      "source": [
        "## Aspectos éticos relevantes\n",
        "----\n",
        "\n",
        "1. **Privacidad**\n",
        "\n",
        "- Asegurar que los videos sean de voluntarios informados.\n",
        "\n",
        "- No compartir imágenes de personas sin su consentimiento.\n",
        "\n",
        "2. **Responsabilidad**\n",
        "\n",
        "- El sistema no reemplaza las prácticas de seguridad industrial, solo es un apoyo.\n",
        "\n",
        "3. **Bias**\n",
        "\n",
        "- Entrenar el sistema con personas de diferentes complexiones para evitar sesgos.\n",
        "\n",
        "4. **Impacto positivo**\n",
        "\n",
        "- Reducir accidentes laborales y mejorar el bienestar de los trabajadores."
      ],
      "metadata": {
        "id": "pQVW47oCnYrG"
      }
    },
    {
      "cell_type": "code",
      "execution_count": null,
      "metadata": {
        "id": "DfIx87fZLIH9"
      },
      "outputs": [],
      "source": []
    }
  ]
}